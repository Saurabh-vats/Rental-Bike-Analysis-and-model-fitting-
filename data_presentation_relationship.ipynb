{
 "cells": [
  {
   "cell_type": "code",
   "execution_count": null,
   "id": "86034761",
   "metadata": {},
   "outputs": [],
   "source": [
    "## Data Presentation & Understanding Relationships \n",
    "\n",
    "plt.figure(figsize=(5,5))\n",
    "counter=1\n",
    "plt.figure(figsize=(15,15))\n",
    "for col in df_explore.columns:\n",
    "    if col not in ['casual','registered']:\n",
    "        #print(f\"the column {col} has: \",X[col].value_counts())\n",
    "        plt.subplot(4,4,counter)\n",
    "        sns.barplot(x=col,y='count',data=df_explore)\n",
    "        counter+=1\n",
    "plt.show()  \n"
   ]
  },
  {
   "cell_type": "code",
   "execution_count": null,
   "id": "06a4fb93",
   "metadata": {},
   "outputs": [],
   "source": [
    "\n",
    "plt.figure(figsize=(5,5))\n",
    "counter=1\n",
    "plt.figure(figsize=(10,5))\n",
    "for col in df_explore.columns:\n",
    "    if col in ['casual','registered']:\n",
    "        #print(f\"the column {col} has: \",X[col].value_counts())\n",
    "        plt.subplot(1,2,counter)\n",
    "        sns.barplot(x='hr',y=col,data=hour_data)\n",
    "        plt.xlabel('Hour')\n",
    "        plt.title('Counts per hour')\n",
    "        counter+=1\n",
    "plt.show()  \n"
   ]
  },
  {
   "cell_type": "code",
   "execution_count": null,
   "id": "c027159e",
   "metadata": {},
   "outputs": [],
   "source": [
    "\n",
    "plt.figure(figsize=(10,6))\n",
    "sns.heatmap(df.corr(),annot=True,cmap='coolwarm')\n",
    "plt.show()\n",
    "\n",
    "\n"
   ]
  },
  {
   "cell_type": "code",
   "execution_count": null,
   "id": "beac7412",
   "metadata": {},
   "outputs": [],
   "source": [
    "## Plotting relation between features and target and visualizing working day.\n",
    "\n",
    "for col in continous_col:\n",
    "    plt.figure(figsize=(4,3))\n",
    "    sns.scatterplot(data=df_explore,x=col,y='count',hue = df_explore['working_day'])\n",
    "    plt.show()\n"
   ]
  },
  {
   "cell_type": "code",
   "execution_count": null,
   "id": "0cd39d81",
   "metadata": {},
   "outputs": [],
   "source": [
    "## Plotting relation between features and target and visualizing for year 2018 and 2019\n",
    "\n",
    "for col in continous_col:\n",
    "    plt.figure(figsize=(4,3))\n",
    "    sns.scatterplot(data=df_explore,x=col,y='count',hue = df_explore['year'],palette='magma')\n",
    "    plt.show()\n",
    "\n",
    "sns.pairplot(df_explore)\n",
    "plt.show()"
   ]
  },
  {
   "cell_type": "code",
   "execution_count": null,
   "id": "3f023313",
   "metadata": {},
   "outputs": [],
   "source": [
    "# we can clearly see that temp and temp_feel are highly co-related, so we can drop temp_feel.\n",
    "df.drop(['temp_feel'],axis=1,inplace=True)\n",
    "df_explore.drop(['temp_feel'],axis=1,inplace=True)\n",
    "df_explore.head()"
   ]
  }
 ],
 "metadata": {
  "kernelspec": {
   "display_name": "Python 3 (ipykernel)",
   "language": "python",
   "name": "python3"
  },
  "language_info": {
   "codemirror_mode": {
    "name": "ipython",
    "version": 3
   },
   "file_extension": ".py",
   "mimetype": "text/x-python",
   "name": "python",
   "nbconvert_exporter": "python",
   "pygments_lexer": "ipython3",
   "version": "3.11.5"
  }
 },
 "nbformat": 4,
 "nbformat_minor": 5
}
