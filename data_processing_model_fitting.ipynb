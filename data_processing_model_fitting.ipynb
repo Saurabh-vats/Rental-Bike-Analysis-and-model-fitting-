{
 "cells": [
  {
   "cell_type": "code",
   "execution_count": null,
   "id": "0c22f0dc",
   "metadata": {},
   "outputs": [],
   "source": [
    "## Making dummy features from categorical data\n",
    "\n",
    "\n",
    "dummy = pd.get_dummies(df_explore[['season','week_day','month', 'weather_situation']], drop_first = True)\n",
    "\n",
    "# combine df and dummy and from df remove 'season','week_day','month', 'weather_situation' \n",
    "df = pd.concat([df,dummy], axis = 1)\n",
    "df.drop(['season','week_day','month', 'weather_situation','year','casual','registered'],axis=1,inplace=True)\n",
    "\n",
    "df['count']=df_explore['count']\n"
   ]
  },
  {
   "cell_type": "code",
   "execution_count": null,
   "id": "51c5bf2c",
   "metadata": {},
   "outputs": [],
   "source": [
    "\n",
    "from sklearn.model_selection import train_test_split\n",
    "\n",
    "df_train, df_test = train_test_split(df, train_size = 0.8, random_state = 100)\n",
    "\n",
    "\n",
    "# for scaling\n",
    "from sklearn.preprocessing import StandardScaler\n",
    "scaler = StandardScaler()\n",
    "num_vars = ['temp','humidity','wind_speed']\n"
   ]
  },
  {
   "cell_type": "code",
   "execution_count": null,
   "id": "0683ad4b",
   "metadata": {},
   "outputs": [],
   "source": [
    "\n",
    "df_train[num_vars] = scaler.fit_transform(df_train[num_vars])\n",
    "\n",
    "df_train.head()\n",
    "\n"
   ]
  },
  {
   "cell_type": "code",
   "execution_count": null,
   "id": "931e43c7",
   "metadata": {},
   "outputs": [],
   "source": [
    "\n",
    "y_train = df_train.pop('count')\n",
    "X_train = df_train\n",
    "\n",
    "X_train.head()\n"
   ]
  },
  {
   "cell_type": "code",
   "execution_count": null,
   "id": "1eaf99f2",
   "metadata": {},
   "outputs": [],
   "source": [
    "\n",
    "num_vars = ['temp','humidity','wind_speed']\n",
    "\n",
    "df_test[num_vars] = scaler.fit_transform(df_test[num_vars])\n",
    "\n",
    "\n",
    "y_test = df_test.pop('count')\n",
    "X_test = df_test\n",
    "\n",
    "\n",
    "X_test.head()\n"
   ]
  },
  {
   "cell_type": "code",
   "execution_count": null,
   "id": "d462f9a5",
   "metadata": {},
   "outputs": [],
   "source": [
    "\n",
    "from sklearn.linear_model import LinearRegression\n",
    "model=LinearRegression()\n"
   ]
  },
  {
   "cell_type": "code",
   "execution_count": null,
   "id": "ecfcfb27",
   "metadata": {},
   "outputs": [],
   "source": [
    "model.fit(X_train,y_train)\n",
    "\n"
   ]
  },
  {
   "cell_type": "code",
   "execution_count": null,
   "id": "fa837d61",
   "metadata": {},
   "outputs": [],
   "source": [
    "# Making predictions\n",
    "y_pred = model.predict(X_test)\n"
   ]
  },
  {
   "cell_type": "code",
   "execution_count": null,
   "id": "20bae891",
   "metadata": {},
   "outputs": [],
   "source": [
    "# Model Evaluation\n",
    "from sklearn.metrics import r2_score\n",
    "print(\"R2 score for LR model=\",r2_score(y_test, y_pred))\n",
    "\n",
    "from sklearn.metrics import mean_squared_error\n",
    "\n",
    "print(\"MSE for LR model=\",mean_squared_error(y_test, y_pred))"
   ]
  }
 ],
 "metadata": {
  "kernelspec": {
   "display_name": "Python 3 (ipykernel)",
   "language": "python",
   "name": "python3"
  },
  "language_info": {
   "codemirror_mode": {
    "name": "ipython",
    "version": 3
   },
   "file_extension": ".py",
   "mimetype": "text/x-python",
   "name": "python",
   "nbconvert_exporter": "python",
   "pygments_lexer": "ipython3",
   "version": "3.11.5"
  }
 },
 "nbformat": 4,
 "nbformat_minor": 5
}
